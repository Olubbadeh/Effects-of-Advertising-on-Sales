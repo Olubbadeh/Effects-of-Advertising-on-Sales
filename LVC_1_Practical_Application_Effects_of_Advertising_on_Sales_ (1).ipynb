{
  "cells": [
    {
      "cell_type": "markdown",
      "metadata": {
        "id": "mM7KaMsIyx5q"
      },
      "source": [
        "# Effects of Advertising on Sales\n",
        "\n",
        "\n",
        "\n",
        "\n",
        "## Context and Problem\n",
        "\n",
        "- An interesting application of regression is to quantify the effect of advertisement on sales. Various channels of advertisement are newspaper, TV, radio, etc. \n",
        "- In this case study, we will have a look at the advertising data of a company and try to see its effect on sales.\n",
        "- We will also try to predict the sales given the different parameters of advertising. \n",
        "\n",
        "\n",
        "## Data Information\n",
        "\n",
        "The data at hand has three features about the spending on advertising and the target variable is the net sales. Attributes are:\n",
        "\n",
        "- TV    - Independent variable quantifying budget for TV ads\n",
        "- Radio - Independent variable quantifying budget for radio ads \n",
        "- News  - Independent variable quantifying budget for news ads\n",
        "- Sales - Dependent variable"
      ]
    },
    {
      "cell_type": "markdown",
      "metadata": {
        "id": "rzjQEUms29nL"
      },
      "source": [
        "### Let us start by importing necessary packages"
      ]
    },
    {
      "cell_type": "code",
      "execution_count": 2,
      "metadata": {
        "id": "Mbek6djw26sQ"
      },
      "outputs": [],
      "source": [
        "import pandas as pd\n",
        "import numpy as np\n",
        "import numpy as np\n",
        "from sklearn import linear_model\n",
        "import matplotlib.pyplot as plt"
      ]
    },
    {
      "cell_type": "code",
      "execution_count": 4,
      "metadata": {
        "colab": {
          "base_uri": "https://localhost:8080/",
          "height": 206
        },
        "id": "qIbGMZS36De1",
        "outputId": "9ee0cf62-138c-4a7e-8717-adf02d5edbdb"
      },
      "outputs": [
        {
          "output_type": "execute_result",
          "data": {
            "text/plain": [
              "   Unnamed: 0     TV  Radio  Newspaper  Sales\n",
              "0           1  230.1   37.8       69.2   22.1\n",
              "1           2   44.5   39.3       45.1   10.4\n",
              "2           3   17.2   45.9       69.3    9.3\n",
              "3           4  151.5   41.3       58.5   18.5\n",
              "4           5  180.8   10.8       58.4   12.9"
            ],
            "text/html": [
              "\n",
              "  <div id=\"df-9d783985-e533-4b10-83b7-5ce7af6d21c3\">\n",
              "    <div class=\"colab-df-container\">\n",
              "      <div>\n",
              "<style scoped>\n",
              "    .dataframe tbody tr th:only-of-type {\n",
              "        vertical-align: middle;\n",
              "    }\n",
              "\n",
              "    .dataframe tbody tr th {\n",
              "        vertical-align: top;\n",
              "    }\n",
              "\n",
              "    .dataframe thead th {\n",
              "        text-align: right;\n",
              "    }\n",
              "</style>\n",
              "<table border=\"1\" class=\"dataframe\">\n",
              "  <thead>\n",
              "    <tr style=\"text-align: right;\">\n",
              "      <th></th>\n",
              "      <th>Unnamed: 0</th>\n",
              "      <th>TV</th>\n",
              "      <th>Radio</th>\n",
              "      <th>Newspaper</th>\n",
              "      <th>Sales</th>\n",
              "    </tr>\n",
              "  </thead>\n",
              "  <tbody>\n",
              "    <tr>\n",
              "      <th>0</th>\n",
              "      <td>1</td>\n",
              "      <td>230.1</td>\n",
              "      <td>37.8</td>\n",
              "      <td>69.2</td>\n",
              "      <td>22.1</td>\n",
              "    </tr>\n",
              "    <tr>\n",
              "      <th>1</th>\n",
              "      <td>2</td>\n",
              "      <td>44.5</td>\n",
              "      <td>39.3</td>\n",
              "      <td>45.1</td>\n",
              "      <td>10.4</td>\n",
              "    </tr>\n",
              "    <tr>\n",
              "      <th>2</th>\n",
              "      <td>3</td>\n",
              "      <td>17.2</td>\n",
              "      <td>45.9</td>\n",
              "      <td>69.3</td>\n",
              "      <td>9.3</td>\n",
              "    </tr>\n",
              "    <tr>\n",
              "      <th>3</th>\n",
              "      <td>4</td>\n",
              "      <td>151.5</td>\n",
              "      <td>41.3</td>\n",
              "      <td>58.5</td>\n",
              "      <td>18.5</td>\n",
              "    </tr>\n",
              "    <tr>\n",
              "      <th>4</th>\n",
              "      <td>5</td>\n",
              "      <td>180.8</td>\n",
              "      <td>10.8</td>\n",
              "      <td>58.4</td>\n",
              "      <td>12.9</td>\n",
              "    </tr>\n",
              "  </tbody>\n",
              "</table>\n",
              "</div>\n",
              "      <button class=\"colab-df-convert\" onclick=\"convertToInteractive('df-9d783985-e533-4b10-83b7-5ce7af6d21c3')\"\n",
              "              title=\"Convert this dataframe to an interactive table.\"\n",
              "              style=\"display:none;\">\n",
              "        \n",
              "  <svg xmlns=\"http://www.w3.org/2000/svg\" height=\"24px\"viewBox=\"0 0 24 24\"\n",
              "       width=\"24px\">\n",
              "    <path d=\"M0 0h24v24H0V0z\" fill=\"none\"/>\n",
              "    <path d=\"M18.56 5.44l.94 2.06.94-2.06 2.06-.94-2.06-.94-.94-2.06-.94 2.06-2.06.94zm-11 1L8.5 8.5l.94-2.06 2.06-.94-2.06-.94L8.5 2.5l-.94 2.06-2.06.94zm10 10l.94 2.06.94-2.06 2.06-.94-2.06-.94-.94-2.06-.94 2.06-2.06.94z\"/><path d=\"M17.41 7.96l-1.37-1.37c-.4-.4-.92-.59-1.43-.59-.52 0-1.04.2-1.43.59L10.3 9.45l-7.72 7.72c-.78.78-.78 2.05 0 2.83L4 21.41c.39.39.9.59 1.41.59.51 0 1.02-.2 1.41-.59l7.78-7.78 2.81-2.81c.8-.78.8-2.07 0-2.86zM5.41 20L4 18.59l7.72-7.72 1.47 1.35L5.41 20z\"/>\n",
              "  </svg>\n",
              "      </button>\n",
              "      \n",
              "  <style>\n",
              "    .colab-df-container {\n",
              "      display:flex;\n",
              "      flex-wrap:wrap;\n",
              "      gap: 12px;\n",
              "    }\n",
              "\n",
              "    .colab-df-convert {\n",
              "      background-color: #E8F0FE;\n",
              "      border: none;\n",
              "      border-radius: 50%;\n",
              "      cursor: pointer;\n",
              "      display: none;\n",
              "      fill: #1967D2;\n",
              "      height: 32px;\n",
              "      padding: 0 0 0 0;\n",
              "      width: 32px;\n",
              "    }\n",
              "\n",
              "    .colab-df-convert:hover {\n",
              "      background-color: #E2EBFA;\n",
              "      box-shadow: 0px 1px 2px rgba(60, 64, 67, 0.3), 0px 1px 3px 1px rgba(60, 64, 67, 0.15);\n",
              "      fill: #174EA6;\n",
              "    }\n",
              "\n",
              "    [theme=dark] .colab-df-convert {\n",
              "      background-color: #3B4455;\n",
              "      fill: #D2E3FC;\n",
              "    }\n",
              "\n",
              "    [theme=dark] .colab-df-convert:hover {\n",
              "      background-color: #434B5C;\n",
              "      box-shadow: 0px 1px 3px 1px rgba(0, 0, 0, 0.15);\n",
              "      filter: drop-shadow(0px 1px 2px rgba(0, 0, 0, 0.3));\n",
              "      fill: #FFFFFF;\n",
              "    }\n",
              "  </style>\n",
              "\n",
              "      <script>\n",
              "        const buttonEl =\n",
              "          document.querySelector('#df-9d783985-e533-4b10-83b7-5ce7af6d21c3 button.colab-df-convert');\n",
              "        buttonEl.style.display =\n",
              "          google.colab.kernel.accessAllowed ? 'block' : 'none';\n",
              "\n",
              "        async function convertToInteractive(key) {\n",
              "          const element = document.querySelector('#df-9d783985-e533-4b10-83b7-5ce7af6d21c3');\n",
              "          const dataTable =\n",
              "            await google.colab.kernel.invokeFunction('convertToInteractive',\n",
              "                                                     [key], {});\n",
              "          if (!dataTable) return;\n",
              "\n",
              "          const docLinkHtml = 'Like what you see? Visit the ' +\n",
              "            '<a target=\"_blank\" href=https://colab.research.google.com/notebooks/data_table.ipynb>data table notebook</a>'\n",
              "            + ' to learn more about interactive tables.';\n",
              "          element.innerHTML = '';\n",
              "          dataTable['output_type'] = 'display_data';\n",
              "          await google.colab.output.renderOutput(dataTable, element);\n",
              "          const docLink = document.createElement('div');\n",
              "          docLink.innerHTML = docLinkHtml;\n",
              "          element.appendChild(docLink);\n",
              "        }\n",
              "      </script>\n",
              "    </div>\n",
              "  </div>\n",
              "  "
            ]
          },
          "metadata": {},
          "execution_count": 4
        }
      ],
      "source": [
        "Ad_df = pd.read_csv('/content/Advertising (1).csv')\n",
        "\n",
        "# Loaded the data into the Ad_df data frame. Let us now have a quick look.\n",
        "Ad_df.head()"
      ]
    },
    {
      "cell_type": "code",
      "execution_count": 5,
      "metadata": {
        "id": "dQD08slX6tVt"
      },
      "outputs": [],
      "source": [
        "# we can drop the first column as it is just the index\n",
        "Ad_df.drop(columns = 'Unnamed: 0', inplace=True)"
      ]
    },
    {
      "cell_type": "code",
      "execution_count": 6,
      "metadata": {
        "colab": {
          "base_uri": "https://localhost:8080/",
          "height": 424
        },
        "id": "PHN8-pYv7IAP",
        "outputId": "4761431a-a7ff-419d-d7b0-35c465694455"
      },
      "outputs": [
        {
          "output_type": "execute_result",
          "data": {
            "text/plain": [
              "        TV  Radio  Newspaper  Sales\n",
              "0    230.1   37.8       69.2   22.1\n",
              "1     44.5   39.3       45.1   10.4\n",
              "2     17.2   45.9       69.3    9.3\n",
              "3    151.5   41.3       58.5   18.5\n",
              "4    180.8   10.8       58.4   12.9\n",
              "..     ...    ...        ...    ...\n",
              "195   38.2    3.7       13.8    7.6\n",
              "196   94.2    4.9        8.1    9.7\n",
              "197  177.0    9.3        6.4   12.8\n",
              "198  283.6   42.0       66.2   25.5\n",
              "199  232.1    8.6        8.7   13.4\n",
              "\n",
              "[200 rows x 4 columns]"
            ],
            "text/html": [
              "\n",
              "  <div id=\"df-c57e5926-bd79-453b-9633-4f6eca2a4fee\">\n",
              "    <div class=\"colab-df-container\">\n",
              "      <div>\n",
              "<style scoped>\n",
              "    .dataframe tbody tr th:only-of-type {\n",
              "        vertical-align: middle;\n",
              "    }\n",
              "\n",
              "    .dataframe tbody tr th {\n",
              "        vertical-align: top;\n",
              "    }\n",
              "\n",
              "    .dataframe thead th {\n",
              "        text-align: right;\n",
              "    }\n",
              "</style>\n",
              "<table border=\"1\" class=\"dataframe\">\n",
              "  <thead>\n",
              "    <tr style=\"text-align: right;\">\n",
              "      <th></th>\n",
              "      <th>TV</th>\n",
              "      <th>Radio</th>\n",
              "      <th>Newspaper</th>\n",
              "      <th>Sales</th>\n",
              "    </tr>\n",
              "  </thead>\n",
              "  <tbody>\n",
              "    <tr>\n",
              "      <th>0</th>\n",
              "      <td>230.1</td>\n",
              "      <td>37.8</td>\n",
              "      <td>69.2</td>\n",
              "      <td>22.1</td>\n",
              "    </tr>\n",
              "    <tr>\n",
              "      <th>1</th>\n",
              "      <td>44.5</td>\n",
              "      <td>39.3</td>\n",
              "      <td>45.1</td>\n",
              "      <td>10.4</td>\n",
              "    </tr>\n",
              "    <tr>\n",
              "      <th>2</th>\n",
              "      <td>17.2</td>\n",
              "      <td>45.9</td>\n",
              "      <td>69.3</td>\n",
              "      <td>9.3</td>\n",
              "    </tr>\n",
              "    <tr>\n",
              "      <th>3</th>\n",
              "      <td>151.5</td>\n",
              "      <td>41.3</td>\n",
              "      <td>58.5</td>\n",
              "      <td>18.5</td>\n",
              "    </tr>\n",
              "    <tr>\n",
              "      <th>4</th>\n",
              "      <td>180.8</td>\n",
              "      <td>10.8</td>\n",
              "      <td>58.4</td>\n",
              "      <td>12.9</td>\n",
              "    </tr>\n",
              "    <tr>\n",
              "      <th>...</th>\n",
              "      <td>...</td>\n",
              "      <td>...</td>\n",
              "      <td>...</td>\n",
              "      <td>...</td>\n",
              "    </tr>\n",
              "    <tr>\n",
              "      <th>195</th>\n",
              "      <td>38.2</td>\n",
              "      <td>3.7</td>\n",
              "      <td>13.8</td>\n",
              "      <td>7.6</td>\n",
              "    </tr>\n",
              "    <tr>\n",
              "      <th>196</th>\n",
              "      <td>94.2</td>\n",
              "      <td>4.9</td>\n",
              "      <td>8.1</td>\n",
              "      <td>9.7</td>\n",
              "    </tr>\n",
              "    <tr>\n",
              "      <th>197</th>\n",
              "      <td>177.0</td>\n",
              "      <td>9.3</td>\n",
              "      <td>6.4</td>\n",
              "      <td>12.8</td>\n",
              "    </tr>\n",
              "    <tr>\n",
              "      <th>198</th>\n",
              "      <td>283.6</td>\n",
              "      <td>42.0</td>\n",
              "      <td>66.2</td>\n",
              "      <td>25.5</td>\n",
              "    </tr>\n",
              "    <tr>\n",
              "      <th>199</th>\n",
              "      <td>232.1</td>\n",
              "      <td>8.6</td>\n",
              "      <td>8.7</td>\n",
              "      <td>13.4</td>\n",
              "    </tr>\n",
              "  </tbody>\n",
              "</table>\n",
              "<p>200 rows × 4 columns</p>\n",
              "</div>\n",
              "      <button class=\"colab-df-convert\" onclick=\"convertToInteractive('df-c57e5926-bd79-453b-9633-4f6eca2a4fee')\"\n",
              "              title=\"Convert this dataframe to an interactive table.\"\n",
              "              style=\"display:none;\">\n",
              "        \n",
              "  <svg xmlns=\"http://www.w3.org/2000/svg\" height=\"24px\"viewBox=\"0 0 24 24\"\n",
              "       width=\"24px\">\n",
              "    <path d=\"M0 0h24v24H0V0z\" fill=\"none\"/>\n",
              "    <path d=\"M18.56 5.44l.94 2.06.94-2.06 2.06-.94-2.06-.94-.94-2.06-.94 2.06-2.06.94zm-11 1L8.5 8.5l.94-2.06 2.06-.94-2.06-.94L8.5 2.5l-.94 2.06-2.06.94zm10 10l.94 2.06.94-2.06 2.06-.94-2.06-.94-.94-2.06-.94 2.06-2.06.94z\"/><path d=\"M17.41 7.96l-1.37-1.37c-.4-.4-.92-.59-1.43-.59-.52 0-1.04.2-1.43.59L10.3 9.45l-7.72 7.72c-.78.78-.78 2.05 0 2.83L4 21.41c.39.39.9.59 1.41.59.51 0 1.02-.2 1.41-.59l7.78-7.78 2.81-2.81c.8-.78.8-2.07 0-2.86zM5.41 20L4 18.59l7.72-7.72 1.47 1.35L5.41 20z\"/>\n",
              "  </svg>\n",
              "      </button>\n",
              "      \n",
              "  <style>\n",
              "    .colab-df-container {\n",
              "      display:flex;\n",
              "      flex-wrap:wrap;\n",
              "      gap: 12px;\n",
              "    }\n",
              "\n",
              "    .colab-df-convert {\n",
              "      background-color: #E8F0FE;\n",
              "      border: none;\n",
              "      border-radius: 50%;\n",
              "      cursor: pointer;\n",
              "      display: none;\n",
              "      fill: #1967D2;\n",
              "      height: 32px;\n",
              "      padding: 0 0 0 0;\n",
              "      width: 32px;\n",
              "    }\n",
              "\n",
              "    .colab-df-convert:hover {\n",
              "      background-color: #E2EBFA;\n",
              "      box-shadow: 0px 1px 2px rgba(60, 64, 67, 0.3), 0px 1px 3px 1px rgba(60, 64, 67, 0.15);\n",
              "      fill: #174EA6;\n",
              "    }\n",
              "\n",
              "    [theme=dark] .colab-df-convert {\n",
              "      background-color: #3B4455;\n",
              "      fill: #D2E3FC;\n",
              "    }\n",
              "\n",
              "    [theme=dark] .colab-df-convert:hover {\n",
              "      background-color: #434B5C;\n",
              "      box-shadow: 0px 1px 3px 1px rgba(0, 0, 0, 0.15);\n",
              "      filter: drop-shadow(0px 1px 2px rgba(0, 0, 0, 0.3));\n",
              "      fill: #FFFFFF;\n",
              "    }\n",
              "  </style>\n",
              "\n",
              "      <script>\n",
              "        const buttonEl =\n",
              "          document.querySelector('#df-c57e5926-bd79-453b-9633-4f6eca2a4fee button.colab-df-convert');\n",
              "        buttonEl.style.display =\n",
              "          google.colab.kernel.accessAllowed ? 'block' : 'none';\n",
              "\n",
              "        async function convertToInteractive(key) {\n",
              "          const element = document.querySelector('#df-c57e5926-bd79-453b-9633-4f6eca2a4fee');\n",
              "          const dataTable =\n",
              "            await google.colab.kernel.invokeFunction('convertToInteractive',\n",
              "                                                     [key], {});\n",
              "          if (!dataTable) return;\n",
              "\n",
              "          const docLinkHtml = 'Like what you see? Visit the ' +\n",
              "            '<a target=\"_blank\" href=https://colab.research.google.com/notebooks/data_table.ipynb>data table notebook</a>'\n",
              "            + ' to learn more about interactive tables.';\n",
              "          element.innerHTML = '';\n",
              "          dataTable['output_type'] = 'display_data';\n",
              "          await google.colab.output.renderOutput(dataTable, element);\n",
              "          const docLink = document.createElement('div');\n",
              "          docLink.innerHTML = docLinkHtml;\n",
              "          element.appendChild(docLink);\n",
              "        }\n",
              "      </script>\n",
              "    </div>\n",
              "  </div>\n",
              "  "
            ]
          },
          "metadata": {},
          "execution_count": 6
        }
      ],
      "source": [
        "Ad_df"
      ]
    },
    {
      "cell_type": "code",
      "execution_count": 8,
      "metadata": {
        "colab": {
          "base_uri": "https://localhost:8080/"
        },
        "id": "lPtSvD8T-ALA",
        "outputId": "8f55da91-dd54-409c-b7cf-d306e5f6b8bd"
      },
      "outputs": [
        {
          "output_type": "stream",
          "name": "stdout",
          "text": [
            "<class 'pandas.core.frame.DataFrame'>\n",
            "RangeIndex: 200 entries, 0 to 199\n",
            "Data columns (total 4 columns):\n",
            " #   Column     Non-Null Count  Dtype  \n",
            "---  ------     --------------  -----  \n",
            " 0   TV         200 non-null    float64\n",
            " 1   Radio      200 non-null    float64\n",
            " 2   Newspaper  200 non-null    float64\n",
            " 3   Sales      200 non-null    float64\n",
            "dtypes: float64(4)\n",
            "memory usage: 6.4 KB\n"
          ]
        }
      ],
      "source": [
        "Ad_df.info()"
      ]
    },
    {
      "cell_type": "markdown",
      "metadata": {
        "id": "TtclE25ghs4f"
      },
      "source": [
        "**Observations:** All the variables are of float data type."
      ]
    },
    {
      "cell_type": "markdown",
      "metadata": {
        "id": "vdPHnnpw_9oV"
      },
      "source": [
        "### Let us now start with the simple linear regression. We will use one feature at a time and have a look at the target variable. "
      ]
    },
    {
      "cell_type": "code",
      "execution_count": 9,
      "metadata": {
        "id": "q4UTFBGd9_Dr"
      },
      "outputs": [],
      "source": [
        "# Dataset is stored in a Pandas Dataframe. Let us take out all the variables in a numpy array.\n",
        "Sales = Ad_df.Sales.values.reshape(len(Ad_df['Sales']), 1)\n",
        "TV = Ad_df.TV.values.reshape(len(Ad_df['Sales']), 1)\n",
        "Radio = Ad_df.Radio.values.reshape(len(Ad_df['Sales']), 1)\n",
        "Newspaper = Ad_df.Newspaper.values.reshape(len(Ad_df['Sales']), 1)"
      ]
    },
    {
      "cell_type": "markdown",
      "source": [
        "Converting data from a Pandas DataFrame to a NumPy array is often done when working with machine learning algorithms like linear regression. Here are a few reasons why this conversion is beneficial:\n",
        "\n",
        "1. NumPy array compatibility: Many machine learning libraries, including scikit-learn, expect input data in the form of NumPy arrays. Converting a Pandas DataFrame to a NumPy array allows you to seamlessly integrate with these libraries.\n",
        "\n",
        "2. Efficient computation: NumPy arrays are optimized for numerical operations and can offer significant performance improvements over DataFrame operations. Linear regression involves matrix computations, and NumPy provides efficient linear algebra operations necessary for these calculations.\n",
        "\n",
        "3. Feature extraction: In some cases, you might need to extract specific features or columns from a DataFrame for regression analysis. Converting the DataFrame to a NumPy array allows you to easily select and manipulate the desired data.\n",
        "\n",
        "To convert a Pandas DataFrame to a NumPy array, you can use the `.values` attribute of the DataFrame. Here's an example:\n",
        "\n",
        "```python\n",
        "import pandas as pd\n",
        "import numpy as np\n",
        "\n",
        "# Assuming you have a DataFrame named 'df'\n",
        "# with features 'X1', 'X2', and target variable 'y'\n",
        "\n",
        "# Extract features and target as separate DataFrames\n",
        "features_df = df[['X1', 'X2']]\n",
        "target_df = df['y']\n",
        "\n",
        "# Convert DataFrames to NumPy arrays\n",
        "features_array = features_df.values\n",
        "target_array = target_df.values\n",
        "```\n",
        "\n",
        "Now, you can use `features_array` and `target_array` as inputs for your linear regression algorithm, such as scikit-learn's `LinearRegression` class."
      ],
      "metadata": {
        "id": "bZypKZVzRVtt"
      }
    },
    {
      "cell_type": "code",
      "execution_count": 10,
      "metadata": {
        "colab": {
          "base_uri": "https://localhost:8080/",
          "height": 112
        },
        "id": "Q4CKboT-CBgP",
        "outputId": "3b3c8bf5-a989-4db3-b1b1-0031b527ba17"
      },
      "outputs": [
        {
          "output_type": "execute_result",
          "data": {
            "text/plain": [
              "                   TV     Radio  Newspaper\n",
              "Intercept    7.032594  9.311638  12.351407\n",
              "Coefficient  0.047537  0.202496   0.054693"
            ],
            "text/html": [
              "\n",
              "  <div id=\"df-eff53b18-1c05-4ace-be6a-f4d9de83d4ba\">\n",
              "    <div class=\"colab-df-container\">\n",
              "      <div>\n",
              "<style scoped>\n",
              "    .dataframe tbody tr th:only-of-type {\n",
              "        vertical-align: middle;\n",
              "    }\n",
              "\n",
              "    .dataframe tbody tr th {\n",
              "        vertical-align: top;\n",
              "    }\n",
              "\n",
              "    .dataframe thead th {\n",
              "        text-align: right;\n",
              "    }\n",
              "</style>\n",
              "<table border=\"1\" class=\"dataframe\">\n",
              "  <thead>\n",
              "    <tr style=\"text-align: right;\">\n",
              "      <th></th>\n",
              "      <th>TV</th>\n",
              "      <th>Radio</th>\n",
              "      <th>Newspaper</th>\n",
              "    </tr>\n",
              "  </thead>\n",
              "  <tbody>\n",
              "    <tr>\n",
              "      <th>Intercept</th>\n",
              "      <td>7.032594</td>\n",
              "      <td>9.311638</td>\n",
              "      <td>12.351407</td>\n",
              "    </tr>\n",
              "    <tr>\n",
              "      <th>Coefficient</th>\n",
              "      <td>0.047537</td>\n",
              "      <td>0.202496</td>\n",
              "      <td>0.054693</td>\n",
              "    </tr>\n",
              "  </tbody>\n",
              "</table>\n",
              "</div>\n",
              "      <button class=\"colab-df-convert\" onclick=\"convertToInteractive('df-eff53b18-1c05-4ace-be6a-f4d9de83d4ba')\"\n",
              "              title=\"Convert this dataframe to an interactive table.\"\n",
              "              style=\"display:none;\">\n",
              "        \n",
              "  <svg xmlns=\"http://www.w3.org/2000/svg\" height=\"24px\"viewBox=\"0 0 24 24\"\n",
              "       width=\"24px\">\n",
              "    <path d=\"M0 0h24v24H0V0z\" fill=\"none\"/>\n",
              "    <path d=\"M18.56 5.44l.94 2.06.94-2.06 2.06-.94-2.06-.94-.94-2.06-.94 2.06-2.06.94zm-11 1L8.5 8.5l.94-2.06 2.06-.94-2.06-.94L8.5 2.5l-.94 2.06-2.06.94zm10 10l.94 2.06.94-2.06 2.06-.94-2.06-.94-.94-2.06-.94 2.06-2.06.94z\"/><path d=\"M17.41 7.96l-1.37-1.37c-.4-.4-.92-.59-1.43-.59-.52 0-1.04.2-1.43.59L10.3 9.45l-7.72 7.72c-.78.78-.78 2.05 0 2.83L4 21.41c.39.39.9.59 1.41.59.51 0 1.02-.2 1.41-.59l7.78-7.78 2.81-2.81c.8-.78.8-2.07 0-2.86zM5.41 20L4 18.59l7.72-7.72 1.47 1.35L5.41 20z\"/>\n",
              "  </svg>\n",
              "      </button>\n",
              "      \n",
              "  <style>\n",
              "    .colab-df-container {\n",
              "      display:flex;\n",
              "      flex-wrap:wrap;\n",
              "      gap: 12px;\n",
              "    }\n",
              "\n",
              "    .colab-df-convert {\n",
              "      background-color: #E8F0FE;\n",
              "      border: none;\n",
              "      border-radius: 50%;\n",
              "      cursor: pointer;\n",
              "      display: none;\n",
              "      fill: #1967D2;\n",
              "      height: 32px;\n",
              "      padding: 0 0 0 0;\n",
              "      width: 32px;\n",
              "    }\n",
              "\n",
              "    .colab-df-convert:hover {\n",
              "      background-color: #E2EBFA;\n",
              "      box-shadow: 0px 1px 2px rgba(60, 64, 67, 0.3), 0px 1px 3px 1px rgba(60, 64, 67, 0.15);\n",
              "      fill: #174EA6;\n",
              "    }\n",
              "\n",
              "    [theme=dark] .colab-df-convert {\n",
              "      background-color: #3B4455;\n",
              "      fill: #D2E3FC;\n",
              "    }\n",
              "\n",
              "    [theme=dark] .colab-df-convert:hover {\n",
              "      background-color: #434B5C;\n",
              "      box-shadow: 0px 1px 3px 1px rgba(0, 0, 0, 0.15);\n",
              "      filter: drop-shadow(0px 1px 2px rgba(0, 0, 0, 0.3));\n",
              "      fill: #FFFFFF;\n",
              "    }\n",
              "  </style>\n",
              "\n",
              "      <script>\n",
              "        const buttonEl =\n",
              "          document.querySelector('#df-eff53b18-1c05-4ace-be6a-f4d9de83d4ba button.colab-df-convert');\n",
              "        buttonEl.style.display =\n",
              "          google.colab.kernel.accessAllowed ? 'block' : 'none';\n",
              "\n",
              "        async function convertToInteractive(key) {\n",
              "          const element = document.querySelector('#df-eff53b18-1c05-4ace-be6a-f4d9de83d4ba');\n",
              "          const dataTable =\n",
              "            await google.colab.kernel.invokeFunction('convertToInteractive',\n",
              "                                                     [key], {});\n",
              "          if (!dataTable) return;\n",
              "\n",
              "          const docLinkHtml = 'Like what you see? Visit the ' +\n",
              "            '<a target=\"_blank\" href=https://colab.research.google.com/notebooks/data_table.ipynb>data table notebook</a>'\n",
              "            + ' to learn more about interactive tables.';\n",
              "          element.innerHTML = '';\n",
              "          dataTable['output_type'] = 'display_data';\n",
              "          await google.colab.output.renderOutput(dataTable, element);\n",
              "          const docLink = document.createElement('div');\n",
              "          docLink.innerHTML = docLinkHtml;\n",
              "          element.appendChild(docLink);\n",
              "        }\n",
              "      </script>\n",
              "    </div>\n",
              "  </div>\n",
              "  "
            ]
          },
          "metadata": {},
          "execution_count": 10
        }
      ],
      "source": [
        "# let us fit the simple linear regression model with the TV feature\n",
        "tv_model = linear_model.LinearRegression()\n",
        "tv_model.fit(TV, Sales)\n",
        "coeffs_tv = np.array(list(tv_model.intercept_.flatten()) + list(tv_model.coef_.flatten()))\n",
        "coeffs_tv = list(coeffs_tv)\n",
        "\n",
        "# let us fit the simple linear regression model with the Radio feature\n",
        "radio_model = linear_model.LinearRegression()\n",
        "radio_model.fit(Radio, Sales)\n",
        "coeffs_radio = np.array(list(radio_model.intercept_.flatten()) + list(radio_model.coef_.flatten()))\n",
        "coeffs_radio = list(coeffs_radio)\n",
        "\n",
        "# let us fit the simple linear regression model with the Newspaper feature\n",
        "newspaper_model = linear_model.LinearRegression()\n",
        "newspaper_model.fit(Newspaper, Sales)\n",
        "coeffs_newspaper = np.array(list(newspaper_model.intercept_.flatten()) + list(newspaper_model.coef_.flatten()))\n",
        "coeffs_newspaper = list(coeffs_newspaper)\n",
        "\n",
        "# let us store the above results in a dictionary and then display using a dataframe\n",
        "dict_Sales = {}\n",
        "dict_Sales[\"TV\"] = coeffs_tv\n",
        "dict_Sales[\"Radio\"] = coeffs_radio\n",
        "dict_Sales[\"Newspaper\"] = coeffs_newspaper\n",
        "\n",
        "metric_Df_SLR =  pd.DataFrame(dict_Sales)\n",
        "metric_Df_SLR.index = ['Intercept', 'Coefficient']\n",
        "metric_Df_SLR"
      ]
    },
    {
      "cell_type": "code",
      "execution_count": 11,
      "metadata": {
        "colab": {
          "base_uri": "https://localhost:8080/"
        },
        "id": "IFjl_ZoW_njD",
        "outputId": "312b2c66-8807-4dc0-d1ca-5b6d3a3811d5"
      },
      "outputs": [
        {
          "output_type": "stream",
          "name": "stdout",
          "text": [
            "TV simple linear regression R-Square : 0.611875050850071\n",
            "Radio simple linear regression R-Square : 0.33203245544529525\n",
            "Newspaper simple linear regression R-Square : 0.05212044544430516\n"
          ]
        },
        {
          "output_type": "execute_result",
          "data": {
            "text/plain": [
              "[0.611875050850071, 0.33203245544529525, 0.05212044544430516]"
            ]
          },
          "metadata": {},
          "execution_count": 11
        }
      ],
      "source": [
        "# Let us now calculate R^2\n",
        "tv_rsq = tv_model.score(TV, Sales)\n",
        "radio_rsq = radio_model.score(Radio, Sales)\n",
        "newspaper_rsq = newspaper_model.score(Newspaper, Sales)\n",
        "\n",
        "print(\"TV simple linear regression R-Square :\", tv_rsq)\n",
        "print(\"Radio simple linear regression R-Square :\", radio_rsq)\n",
        "print(\"Newspaper simple linear regression R-Square :\", newspaper_rsq)\n",
        "list_rsq = [tv_rsq, radio_rsq, newspaper_rsq]\n",
        "list_rsq"
      ]
    },
    {
      "cell_type": "code",
      "execution_count": 12,
      "metadata": {
        "colab": {
          "base_uri": "https://localhost:8080/",
          "height": 143
        },
        "id": "jMAZXp21AGsB",
        "outputId": "dbaf7f52-a6ae-422d-97d1-d3926e0001d9"
      },
      "outputs": [
        {
          "output_type": "execute_result",
          "data": {
            "text/plain": [
              "                   TV     Radio  Newspaper\n",
              "Intercept    7.032594  9.311638  12.351407\n",
              "Coefficient  0.047537  0.202496   0.054693\n",
              "R-Squared    0.611875  0.332032   0.052120"
            ],
            "text/html": [
              "\n",
              "  <div id=\"df-7f46c573-a618-4238-88e2-46671b9c9300\">\n",
              "    <div class=\"colab-df-container\">\n",
              "      <div>\n",
              "<style scoped>\n",
              "    .dataframe tbody tr th:only-of-type {\n",
              "        vertical-align: middle;\n",
              "    }\n",
              "\n",
              "    .dataframe tbody tr th {\n",
              "        vertical-align: top;\n",
              "    }\n",
              "\n",
              "    .dataframe thead th {\n",
              "        text-align: right;\n",
              "    }\n",
              "</style>\n",
              "<table border=\"1\" class=\"dataframe\">\n",
              "  <thead>\n",
              "    <tr style=\"text-align: right;\">\n",
              "      <th></th>\n",
              "      <th>TV</th>\n",
              "      <th>Radio</th>\n",
              "      <th>Newspaper</th>\n",
              "    </tr>\n",
              "  </thead>\n",
              "  <tbody>\n",
              "    <tr>\n",
              "      <th>Intercept</th>\n",
              "      <td>7.032594</td>\n",
              "      <td>9.311638</td>\n",
              "      <td>12.351407</td>\n",
              "    </tr>\n",
              "    <tr>\n",
              "      <th>Coefficient</th>\n",
              "      <td>0.047537</td>\n",
              "      <td>0.202496</td>\n",
              "      <td>0.054693</td>\n",
              "    </tr>\n",
              "    <tr>\n",
              "      <th>R-Squared</th>\n",
              "      <td>0.611875</td>\n",
              "      <td>0.332032</td>\n",
              "      <td>0.052120</td>\n",
              "    </tr>\n",
              "  </tbody>\n",
              "</table>\n",
              "</div>\n",
              "      <button class=\"colab-df-convert\" onclick=\"convertToInteractive('df-7f46c573-a618-4238-88e2-46671b9c9300')\"\n",
              "              title=\"Convert this dataframe to an interactive table.\"\n",
              "              style=\"display:none;\">\n",
              "        \n",
              "  <svg xmlns=\"http://www.w3.org/2000/svg\" height=\"24px\"viewBox=\"0 0 24 24\"\n",
              "       width=\"24px\">\n",
              "    <path d=\"M0 0h24v24H0V0z\" fill=\"none\"/>\n",
              "    <path d=\"M18.56 5.44l.94 2.06.94-2.06 2.06-.94-2.06-.94-.94-2.06-.94 2.06-2.06.94zm-11 1L8.5 8.5l.94-2.06 2.06-.94-2.06-.94L8.5 2.5l-.94 2.06-2.06.94zm10 10l.94 2.06.94-2.06 2.06-.94-2.06-.94-.94-2.06-.94 2.06-2.06.94z\"/><path d=\"M17.41 7.96l-1.37-1.37c-.4-.4-.92-.59-1.43-.59-.52 0-1.04.2-1.43.59L10.3 9.45l-7.72 7.72c-.78.78-.78 2.05 0 2.83L4 21.41c.39.39.9.59 1.41.59.51 0 1.02-.2 1.41-.59l7.78-7.78 2.81-2.81c.8-.78.8-2.07 0-2.86zM5.41 20L4 18.59l7.72-7.72 1.47 1.35L5.41 20z\"/>\n",
              "  </svg>\n",
              "      </button>\n",
              "      \n",
              "  <style>\n",
              "    .colab-df-container {\n",
              "      display:flex;\n",
              "      flex-wrap:wrap;\n",
              "      gap: 12px;\n",
              "    }\n",
              "\n",
              "    .colab-df-convert {\n",
              "      background-color: #E8F0FE;\n",
              "      border: none;\n",
              "      border-radius: 50%;\n",
              "      cursor: pointer;\n",
              "      display: none;\n",
              "      fill: #1967D2;\n",
              "      height: 32px;\n",
              "      padding: 0 0 0 0;\n",
              "      width: 32px;\n",
              "    }\n",
              "\n",
              "    .colab-df-convert:hover {\n",
              "      background-color: #E2EBFA;\n",
              "      box-shadow: 0px 1px 2px rgba(60, 64, 67, 0.3), 0px 1px 3px 1px rgba(60, 64, 67, 0.15);\n",
              "      fill: #174EA6;\n",
              "    }\n",
              "\n",
              "    [theme=dark] .colab-df-convert {\n",
              "      background-color: #3B4455;\n",
              "      fill: #D2E3FC;\n",
              "    }\n",
              "\n",
              "    [theme=dark] .colab-df-convert:hover {\n",
              "      background-color: #434B5C;\n",
              "      box-shadow: 0px 1px 3px 1px rgba(0, 0, 0, 0.15);\n",
              "      filter: drop-shadow(0px 1px 2px rgba(0, 0, 0, 0.3));\n",
              "      fill: #FFFFFF;\n",
              "    }\n",
              "  </style>\n",
              "\n",
              "      <script>\n",
              "        const buttonEl =\n",
              "          document.querySelector('#df-7f46c573-a618-4238-88e2-46671b9c9300 button.colab-df-convert');\n",
              "        buttonEl.style.display =\n",
              "          google.colab.kernel.accessAllowed ? 'block' : 'none';\n",
              "\n",
              "        async function convertToInteractive(key) {\n",
              "          const element = document.querySelector('#df-7f46c573-a618-4238-88e2-46671b9c9300');\n",
              "          const dataTable =\n",
              "            await google.colab.kernel.invokeFunction('convertToInteractive',\n",
              "                                                     [key], {});\n",
              "          if (!dataTable) return;\n",
              "\n",
              "          const docLinkHtml = 'Like what you see? Visit the ' +\n",
              "            '<a target=\"_blank\" href=https://colab.research.google.com/notebooks/data_table.ipynb>data table notebook</a>'\n",
              "            + ' to learn more about interactive tables.';\n",
              "          element.innerHTML = '';\n",
              "          dataTable['output_type'] = 'display_data';\n",
              "          await google.colab.output.renderOutput(dataTable, element);\n",
              "          const docLink = document.createElement('div');\n",
              "          docLink.innerHTML = docLinkHtml;\n",
              "          element.appendChild(docLink);\n",
              "        }\n",
              "      </script>\n",
              "    </div>\n",
              "  </div>\n",
              "  "
            ]
          },
          "metadata": {},
          "execution_count": 12
        }
      ],
      "source": [
        "metric_Df_SLR.loc['R-Squared'] = list_rsq\n",
        "metric_Df_SLR"
      ]
    },
    {
      "cell_type": "markdown",
      "metadata": {
        "id": "Es84uRdJhs4i"
      },
      "source": [
        "**Observations:** We can see that TV has the highest R^2 value i.e. 61% followed by Radio and Newspaper"
      ]
    },
    {
      "cell_type": "markdown",
      "metadata": {
        "id": "6x63PBJxhs4i"
      },
      "source": [
        "Let's try to visualize the best fit line using the regression plot"
      ]
    },
    {
      "cell_type": "code",
      "execution_count": 13,
      "metadata": {
        "colab": {
          "base_uri": "https://localhost:8080/",
          "height": 1000
        },
        "id": "_R45kkSNQxPx",
        "outputId": "fcf82f73-50c2-4034-e08e-bd58716c7522"
      },
      "outputs": [
        {
          "output_type": "display_data",
          "data": {
            "text/plain": [
              "<Figure size 640x480 with 1 Axes>"
            ],
            "image/png": "[encoded data removed]"
          },
          "metadata": {}
        },
        {
          "output_type": "display_data",
          "data": {
            "text/plain": [
              "<Figure size 640x480 with 1 Axes>"
            ],
            "image/png": "[encoded data removed]"
          },
          "metadata": {}
        },
        {
          "output_type": "display_data",
          "data": {
            "text/plain": [
              "<Figure size 640x480 with 1 Axes>"
            ],
            "image/png": "[encoded data removed]"
          },
          "metadata": {}
        }
      ],
      "source": [
        "plt.scatter(TV, Sales,  color='red')\n",
        "plt.xlabel('TV Ads')\n",
        "plt.ylabel('Sales')\n",
        "plt.plot(TV, tv_model.predict(TV), color='blue', linewidth=3)\n",
        "plt.show()\n",
        "\n",
        "plt.scatter(Radio, Sales,  color='red')\n",
        "plt.xlabel('Radio Ads')\n",
        "plt.ylabel('Sales')\n",
        "plt.plot(Radio, radio_model.predict(Radio), color='blue', linewidth=3)\n",
        "plt.show()\n",
        "\n",
        "plt.scatter(Newspaper, Sales,  color='red')\n",
        "plt.xlabel('Newspaper Ads')\n",
        "plt.ylabel('Sales')\n",
        "plt.plot(Newspaper, newspaper_model.predict(Newspaper), color='blue', linewidth=3)\n",
        "plt.show()\n"
      ]
    },
    {
      "cell_type": "markdown",
      "metadata": {
        "id": "QxiuPBWPQnKm"
      },
      "source": [
        "## Multiple Linear Regression\n",
        "\n",
        "- Let us now build a multiple linear regression model."
      ]
    },
    {
      "cell_type": "code",
      "execution_count": 14,
      "metadata": {
        "colab": {
          "base_uri": "https://localhost:8080/",
          "height": 52
        },
        "id": "p0XdOsasQ_uq",
        "outputId": "19dc012a-fe4f-4d2b-b260-3c2d1bad2fcd"
      },
      "outputs": [
        {
          "output_type": "execute_result",
          "data": {
            "text/plain": [
              "LinearRegression()"
            ],
            "text/html": [
              "<style>#sk-container-id-1 {color: black;background-color: white;}#sk-container-id-1 pre{padding: 0;}#sk-container-id-1 div.sk-toggleable {background-color: white;}#sk-container-id-1 label.sk-toggleable__label {cursor: pointer;display: block;width: 100%;margin-bottom: 0;padding: 0.3em;box-sizing: border-box;text-align: center;}#sk-container-id-1 label.sk-toggleable__label-arrow:before {content: \"▸\";float: left;margin-right: 0.25em;color: #696969;}#sk-container-id-1 label.sk-toggleable__label-arrow:hover:before {color: black;}#sk-container-id-1 div.sk-estimator:hover label.sk-toggleable__label-arrow:before {color: black;}#sk-container-id-1 div.sk-toggleable__content {max-height: 0;max-width: 0;overflow: hidden;text-align: left;background-color: #f0f8ff;}#sk-container-id-1 div.sk-toggleable__content pre {margin: 0.2em;color: black;border-radius: 0.25em;background-color: #f0f8ff;}#sk-container-id-1 input.sk-toggleable__control:checked~div.sk-toggleable__content {max-height: 200px;max-width: 100%;overflow: auto;}#sk-container-id-1 input.sk-toggleable__control:checked~label.sk-toggleable__label-arrow:before {content: \"▾\";}#sk-container-id-1 div.sk-estimator input.sk-toggleable__control:checked~label.sk-toggleable__label {background-color: #d4ebff;}#sk-container-id-1 div.sk-label input.sk-toggleable__control:checked~label.sk-toggleable__label {background-color: #d4ebff;}#sk-container-id-1 input.sk-hidden--visually {border: 0;clip: rect(1px 1px 1px 1px);clip: rect(1px, 1px, 1px, 1px);height: 1px;margin: -1px;overflow: hidden;padding: 0;position: absolute;width: 1px;}#sk-container-id-1 div.sk-estimator {font-family: monospace;background-color: #f0f8ff;border: 1px dotted black;border-radius: 0.25em;box-sizing: border-box;margin-bottom: 0.5em;}#sk-container-id-1 div.sk-estimator:hover {background-color: #d4ebff;}#sk-container-id-1 div.sk-parallel-item::after {content: \"\";width: 100%;border-bottom: 1px solid gray;flex-grow: 1;}#sk-container-id-1 div.sk-label:hover label.sk-toggleable__label {background-color: #d4ebff;}#sk-container-id-1 div.sk-serial::before {content: \"\";position: absolute;border-left: 1px solid gray;box-sizing: border-box;top: 0;bottom: 0;left: 50%;z-index: 0;}#sk-container-id-1 div.sk-serial {display: flex;flex-direction: column;align-items: center;background-color: white;padding-right: 0.2em;padding-left: 0.2em;position: relative;}#sk-container-id-1 div.sk-item {position: relative;z-index: 1;}#sk-container-id-1 div.sk-parallel {display: flex;align-items: stretch;justify-content: center;background-color: white;position: relative;}#sk-container-id-1 div.sk-item::before, #sk-container-id-1 div.sk-parallel-item::before {content: \"\";position: absolute;border-left: 1px solid gray;box-sizing: border-box;top: 0;bottom: 0;left: 50%;z-index: -1;}#sk-container-id-1 div.sk-parallel-item {display: flex;flex-direction: column;z-index: 1;position: relative;background-color: white;}#sk-container-id-1 div.sk-parallel-item:first-child::after {align-self: flex-end;width: 50%;}#sk-container-id-1 div.sk-parallel-item:last-child::after {align-self: flex-start;width: 50%;}#sk-container-id-1 div.sk-parallel-item:only-child::after {width: 0;}#sk-container-id-1 div.sk-dashed-wrapped {border: 1px dashed gray;margin: 0 0.4em 0.5em 0.4em;box-sizing: border-box;padding-bottom: 0.4em;background-color: white;}#sk-container-id-1 div.sk-label label {font-family: monospace;font-weight: bold;display: inline-block;line-height: 1.2em;}#sk-container-id-1 div.sk-label-container {text-align: center;}#sk-container-id-1 div.sk-container {/* jupyter's `normalize.less` sets `[hidden] { display: none; }` but bootstrap.min.css set `[hidden] { display: none !important; }` so we also need the `!important` here to be able to override the default hidden behavior on the sphinx rendered scikit-learn.org. See: https://github.com/scikit-learn/scikit-learn/issues/21755 */display: inline-block !important;position: relative;}#sk-container-id-1 div.sk-text-repr-fallback {display: none;}</style><div id=\"sk-container-id-1\" class=\"sk-top-container\"><div class=\"sk-text-repr-fallback\"><pre>LinearRegression()</pre><b>In a Jupyter environment, please rerun this cell to show the HTML representation or trust the notebook. <br />On GitHub, the HTML representation is unable to render, please try loading this page with nbviewer.org.</b></div><div class=\"sk-container\" hidden><div class=\"sk-item\"><div class=\"sk-estimator sk-toggleable\"><input class=\"sk-toggleable__control sk-hidden--visually\" id=\"sk-estimator-id-1\" type=\"checkbox\" checked><label for=\"sk-estimator-id-1\" class=\"sk-toggleable__label sk-toggleable__label-arrow\">LinearRegression</label><div class=\"sk-toggleable__content\"><pre>LinearRegression()</pre></div></div></div></div></div>"
            ]
          },
          "metadata": {},
          "execution_count": 14
        }
      ],
      "source": [
        "mlr_model = linear_model.LinearRegression()\n",
        "mlr_model.fit(Ad_df[['TV', 'Radio', 'Newspaper']], Ad_df['Sales'])"
      ]
    },
    {
      "cell_type": "code",
      "execution_count": 15,
      "metadata": {
        "id": "f45Fynt_WSIr"
      },
      "outputs": [],
      "source": [
        "Ad_df['Sales_Predicted']  = mlr_model.predict(Ad_df[['TV', 'Radio', 'Newspaper']]) \n",
        "Ad_df['Error'] = (Ad_df['Sales_Predicted'] - Ad_df['Sales'])**2\n",
        "MSE_MLR = Ad_df['Error'].mean()"
      ]
    },
    {
      "cell_type": "code",
      "execution_count": 16,
      "metadata": {
        "colab": {
          "base_uri": "https://localhost:8080/"
        },
        "id": "2IR7lKmrYCpl",
        "outputId": "92d3c9eb-5ed3-447d-a08b-09e23a9864b7"
      },
      "outputs": [
        {
          "output_type": "execute_result",
          "data": {
            "text/plain": [
              "2.784126314510936"
            ]
          },
          "metadata": {},
          "execution_count": 16
        }
      ],
      "source": [
        "MSE_MLR"
      ]
    },
    {
      "cell_type": "code",
      "execution_count": 17,
      "metadata": {
        "colab": {
          "base_uri": "https://localhost:8080/"
        },
        "id": "yXJ6F7b5OqPI",
        "outputId": "ebb481bf-78c1-4ac2-e653-b7453a80f245"
      },
      "outputs": [
        {
          "output_type": "execute_result",
          "data": {
            "text/plain": [
              "0.8972106381789522"
            ]
          },
          "metadata": {},
          "execution_count": 17
        }
      ],
      "source": [
        "mlr_model.score(Ad_df[['TV', 'Radio', 'Newspaper']], Ad_df['Sales'])"
      ]
    },
    {
      "cell_type": "markdown",
      "metadata": {
        "id": "qsZJ-jimhs4k"
      },
      "source": [
        "**Observations:** The R^2 value for the multiple linear regression comes out to be 89.7% i.e. way better than simple linear regression"
      ]
    },
    {
      "cell_type": "markdown",
      "metadata": {
        "id": "UijVypbEhs4k"
      },
      "source": [
        "Let's now try to use statsmodel to get a more detailed model interpretation"
      ]
    },
    {
      "cell_type": "code",
      "execution_count": 18,
      "metadata": {
        "colab": {
          "base_uri": "https://localhost:8080/"
        },
        "id": "qjFCh7tkWf0M",
        "outputId": "a918b440-0f38-4cde-b385-27aa9cde8d88"
      },
      "outputs": [
        {
          "output_type": "stream",
          "name": "stdout",
          "text": [
            "                            OLS Regression Results                            \n",
            "==============================================================================\n",
            "Dep. Variable:                  Sales   R-squared:                       0.897\n",
            "Model:                            OLS   Adj. R-squared:                  0.896\n",
            "Method:                 Least Squares   F-statistic:                     570.3\n",
            "Date:                Thu, 18 May 2023   Prob (F-statistic):           1.58e-96\n",
            "Time:                        14:52:22   Log-Likelihood:                -386.18\n",
            "No. Observations:                 200   AIC:                             780.4\n",
            "Df Residuals:                     196   BIC:                             793.6\n",
            "Df Model:                           3                                         \n",
            "Covariance Type:            nonrobust                                         \n",
            "==============================================================================\n",
            "                 coef    std err          t      P>|t|      [0.025      0.975]\n",
            "------------------------------------------------------------------------------\n",
            "Intercept      2.9389      0.312      9.422      0.000       2.324       3.554\n",
            "TV             0.0458      0.001     32.809      0.000       0.043       0.049\n",
            "Radio          0.1885      0.009     21.893      0.000       0.172       0.206\n",
            "Newspaper     -0.0010      0.006     -0.177      0.860      -0.013       0.011\n",
            "==============================================================================\n",
            "Omnibus:                       60.414   Durbin-Watson:                   2.084\n",
            "Prob(Omnibus):                  0.000   Jarque-Bera (JB):              151.241\n",
            "Skew:                          -1.327   Prob(JB):                     1.44e-33\n",
            "Kurtosis:                       6.332   Cond. No.                         454.\n",
            "==============================================================================\n",
            "\n",
            "Notes:\n",
            "[1] Standard Errors assume that the covariance matrix of the errors is correctly specified.\n"
          ]
        }
      ],
      "source": [
        "# let us get a more detailed model through statsmodel.\n",
        "import statsmodels.formula.api as smf\n",
        "lm1 = smf.ols(formula= 'Sales ~ TV+Radio+Newspaper', data = Ad_df).fit()\n",
        "lm1.params\n",
        "print(lm1.summary())  #Inferential statistics"
      ]
    },
    {
      "cell_type": "code",
      "execution_count": 19,
      "metadata": {
        "colab": {
          "base_uri": "https://localhost:8080/"
        },
        "id": "w2aGVrtKnY7G",
        "outputId": "1573554e-d769-4de6-9505-9b8742f3f683"
      },
      "outputs": [
        {
          "output_type": "stream",
          "name": "stdout",
          "text": [
            "*************Parameters**************\n",
            "Intercept    2.938889\n",
            "TV           0.045765\n",
            "Radio        0.188530\n",
            "Newspaper   -0.001037\n",
            "dtype: float64\n",
            "*************P-Values**************\n",
            "Intercept    1.267295e-17\n",
            "TV           1.509960e-81\n",
            "Radio        1.505339e-54\n",
            "Newspaper    8.599151e-01\n",
            "dtype: float64\n",
            "************Standard Errors***************\n",
            "Intercept    0.311908\n",
            "TV           0.001395\n",
            "Radio        0.008611\n",
            "Newspaper    0.005871\n",
            "dtype: float64\n",
            "*************Confidence Interval**************\n",
            "                  0         1\n",
            "Intercept  2.323762  3.554016\n",
            "TV         0.043014  0.048516\n",
            "Radio      0.171547  0.205513\n",
            "Newspaper -0.012616  0.010541\n",
            "*************Error Covariance Matrix**************\n",
            "           Intercept            TV         Radio     Newspaper\n",
            "Intercept   0.097287 -2.657273e-04 -1.115489e-03 -5.910212e-04\n",
            "TV         -0.000266  1.945737e-06 -4.470395e-07 -3.265950e-07\n",
            "Radio      -0.001115 -4.470395e-07  7.415335e-05 -1.780062e-05\n",
            "Newspaper  -0.000591 -3.265950e-07 -1.780062e-05  3.446875e-05\n"
          ]
        }
      ],
      "source": [
        "print(\"*************Parameters**************\")\n",
        "print(lm1.params)\n",
        "print(\"*************P-Values**************\")\n",
        "print(lm1.pvalues)\n",
        "print(\"************Standard Errors***************\")\n",
        "print(lm1.bse) \n",
        "print(\"*************Confidence Interval**************\")\n",
        "print(lm1.conf_int())\n",
        "print(\"*************Error Covariance Matrix**************\")\n",
        "print(lm1.cov_params())\n"
      ]
    },
    {
      "cell_type": "markdown",
      "metadata": {
        "id": "drlo5QI2h2oY"
      },
      "source": [
        "### Visualizing the confidence bands in Simple linear regression"
      ]
    },
    {
      "cell_type": "code",
      "execution_count": 20,
      "metadata": {
        "colab": {
          "base_uri": "https://localhost:8080/",
          "height": 1000
        },
        "id": "daxXRhFiip3e",
        "outputId": "fbaa5511-e934-4926-a6b1-aa5c32b3a335"
      },
      "outputs": [
        {
          "output_type": "execute_result",
          "data": {
            "text/plain": [
              "<seaborn.axisgrid.FacetGrid at 0x7f696c8a2f50>"
            ]
          },
          "metadata": {},
          "execution_count": 20
        },
        {
          "output_type": "display_data",
          "data": {
            "text/plain": [
              "<Figure size 500x500 with 1 Axes>"
            ],
            "image/png": "[encoded data removed]"
          },
          "metadata": {}
        },
        {
          "output_type": "display_data",
          "data": {
            "text/plain": [
              "<Figure size 500x500 with 1 Axes>"
            ],
            "image/png": "[encoded data removed]"
          },
          "metadata": {}
        },
        {
          "output_type": "display_data",
          "data": {
            "text/plain": [
              "<Figure size 500x500 with 1 Axes>"
            ],
            "image/png": "[encoded data removed]"
          },
          "metadata": {}
        }
      ],
      "source": [
        "import seaborn as sns\n",
        "sns.lmplot(x = 'TV', y = 'Sales', data = Ad_df)\n",
        "\n",
        "sns.lmplot(x = 'Radio', y = 'Sales', data = Ad_df )\n",
        "\n",
        "sns.lmplot(x = 'Newspaper', y = 'Sales', data = Ad_df)"
      ]
    },
    {
      "cell_type": "markdown",
      "metadata": {
        "id": "GGCcusUsz_Az"
      },
      "source": [
        "# LVC  2 - Model Evaluation: Cross validation and Bootstrapping\n",
        "\n",
        "- We realize that the newspaper can be omitted from the list of significant features owing to the p-value.\n",
        "- Let us now run the regression analysis adding a multiplicative feature in it."
      ]
    },
    {
      "cell_type": "code",
      "execution_count": 21,
      "metadata": {
        "id": "zTSASn2az9-B"
      },
      "outputs": [],
      "source": [
        "Ad_df['TVandRadio'] = Ad_df['TV']*Ad_df['Radio']"
      ]
    },
    {
      "cell_type": "code",
      "execution_count": 22,
      "metadata": {
        "id": "h_EfN22CWf5W"
      },
      "outputs": [],
      "source": [
        "# let us remove the sales_predicted and the error column generated earlier\n",
        "Ad_df.drop(columns = [\"Error\", \"Sales_Predicted\"], inplace = True)"
      ]
    },
    {
      "cell_type": "code",
      "execution_count": 23,
      "metadata": {
        "colab": {
          "base_uri": "https://localhost:8080/"
        },
        "id": "rz8DKNiF2QxK",
        "outputId": "7aecc145-0745-4064-83af-376328f1f8fb"
      },
      "outputs": [
        {
          "output_type": "stream",
          "name": "stdout",
          "text": [
            "                            OLS Regression Results                            \n",
            "==============================================================================\n",
            "Dep. Variable:                  Sales   R-squared:                       0.968\n",
            "Model:                            OLS   Adj. R-squared:                  0.967\n",
            "Method:                 Least Squares   F-statistic:                     1466.\n",
            "Date:                Thu, 18 May 2023   Prob (F-statistic):          2.92e-144\n",
            "Time:                        14:57:41   Log-Likelihood:                -270.04\n",
            "No. Observations:                 200   AIC:                             550.1\n",
            "Df Residuals:                     195   BIC:                             566.6\n",
            "Df Model:                           4                                         \n",
            "Covariance Type:            nonrobust                                         \n",
            "==============================================================================\n",
            "                 coef    std err          t      P>|t|      [0.025      0.975]\n",
            "------------------------------------------------------------------------------\n",
            "Intercept      6.7284      0.253     26.561      0.000       6.229       7.228\n",
            "TV             0.0191      0.002     12.633      0.000       0.016       0.022\n",
            "Radio          0.0280      0.009      3.062      0.003       0.010       0.046\n",
            "Newspaper      0.0014      0.003      0.438      0.662      -0.005       0.008\n",
            "TVandRadio     0.0011   5.26e-05     20.686      0.000       0.001       0.001\n",
            "==============================================================================\n",
            "Omnibus:                      126.161   Durbin-Watson:                   2.216\n",
            "Prob(Omnibus):                  0.000   Jarque-Bera (JB):             1123.463\n",
            "Skew:                          -2.291   Prob(JB):                    1.10e-244\n",
            "Kurtosis:                      13.669   Cond. No.                     1.84e+04\n",
            "==============================================================================\n",
            "\n",
            "Notes:\n",
            "[1] Standard Errors assume that the covariance matrix of the errors is correctly specified.\n",
            "[2] The condition number is large, 1.84e+04. This might indicate that there are\n",
            "strong multicollinearity or other numerical problems.\n"
          ]
        }
      ],
      "source": [
        "# Let us do the modelling with the new feature.\n",
        "import statsmodels.formula.api as smf\n",
        "lm2 = smf.ols(formula= 'Sales ~ TV+Radio+Newspaper+TVandRadio', data = Ad_df).fit()\n",
        "lm2.params\n",
        "print(lm2.summary())  #Inferential statistics"
      ]
    },
    {
      "cell_type": "markdown",
      "metadata": {
        "id": "NslaNwMQFjL1"
      },
      "source": [
        "**Observations**\n",
        "- We see an increase in the R-square here. However, is this model useful for prediction? Does it predict well for the unseen data? Let us find out!"
      ]
    },
    {
      "cell_type": "markdown",
      "metadata": {
        "id": "d46mQv0BUKZ8"
      },
      "source": [
        "## Performance assessment, testing and validation"
      ]
    },
    {
      "cell_type": "markdown",
      "metadata": {
        "id": "-EAcqssG3pr0"
      },
      "source": [
        "### Train, Test, and Validation set\n",
        "- We will split data into three sets, one to train the model, one to validate the model performance (not seen during training) and make improvements, and the last to test the model."
      ]
    },
    {
      "cell_type": "code",
      "execution_count": 24,
      "metadata": {
        "id": "uQTTvaQ_3C6D"
      },
      "outputs": [],
      "source": [
        "from sklearn.model_selection import train_test_split"
      ]
    },
    {
      "cell_type": "code",
      "execution_count": null,
      "metadata": {
        "id": "RRerX1zyDUlM"
      },
      "outputs": [],
      "source": [
        "features_base = [i for i in Ad_df.columns if i not in (\"Sales\" , \"TVandRadio\")]\n",
        "features_added = [i for i in Ad_df.columns if i not in \"Sales\"]\n",
        "target  = 'Sales'\n",
        "train, test = train_test_split(Ad_df, test_size = 0.10, train_size = 0.9)"
      ]
    },
    {
      "cell_type": "code",
      "execution_count": null,
      "metadata": {
        "id": "ztuTrjlsDUq0"
      },
      "outputs": [],
      "source": [
        "train, validation = train_test_split(train, test_size = 0.2, train_size = 0.80)"
      ]
    },
    {
      "cell_type": "code",
      "execution_count": null,
      "metadata": {
        "colab": {
          "base_uri": "https://localhost:8080/"
        },
        "id": "jgm44JjJDUtK",
        "outputId": "70e21eef-268e-4057-edaf-9ccad11bfb3c"
      },
      "outputs": [
        {
          "data": {
            "text/plain": [
              "((144, 5), (36, 5), (20, 5))"
            ]
          },
          "execution_count": 25,
          "metadata": {},
          "output_type": "execute_result"
        }
      ],
      "source": [
        "train.shape, validation.shape,test.shape"
      ]
    },
    {
      "cell_type": "code",
      "execution_count": null,
      "metadata": {
        "colab": {
          "base_uri": "https://localhost:8080/"
        },
        "id": "BCsbEBPoDUwm",
        "outputId": "c0379528-f2c5-4266-d184-084272c7c1a2"
      },
      "outputs": [
        {
          "name": "stdout",
          "output_type": "stream",
          "text": [
            "*********Training set Metrics**************\n",
            "R-Squared: 0.8728150345185592\n",
            "MSE:  3.0348049540098523\n",
            "********Validation set Metrics**************\n",
            "R-Squared: 0.9371872319571122\n",
            "MSE:  2.3343022717155604\n"
          ]
        }
      ],
      "source": [
        "# now let us start with the modelling\n",
        "from sklearn.linear_model import LinearRegression\n",
        "\n",
        "mlr = LinearRegression()\n",
        "mlr.fit(train[features_base], train[target])\n",
        "print(\"*********Training set Metrics**************\")\n",
        "print(\"R-Squared:\", mlr.score(train[features_base], train[target]))\n",
        "se_train = (train[target] - mlr.predict(train[features_base]))**2\n",
        "mse_train = se_train.mean()\n",
        "print('MSE: ', mse_train)\n",
        "print(\"********Validation set Metrics**************\")\n",
        "print(\"R-Squared:\", mlr.score(validation[features_base], validation[target]))\n",
        "se_val = (validation[target] - mlr.predict(validation[features_base]))**2\n",
        "mse_val = se_val.mean()\n",
        "print('MSE: ', mse_val)"
      ]
    },
    {
      "cell_type": "code",
      "execution_count": null,
      "metadata": {
        "colab": {
          "base_uri": "https://localhost:8080/"
        },
        "id": "BhMVT0OoI-ZR",
        "outputId": "04a4abfe-d2f9-46f0-87f7-721e493f15d1"
      },
      "outputs": [
        {
          "name": "stdout",
          "output_type": "stream",
          "text": [
            "*********Training set Metrics**************\n",
            "R-Squared: 0.9580235172472629\n",
            "MSE:  1.0016155394444397\n",
            "********Validation set Metrics**************\n",
            "R-Squared: 0.9795480571242043\n",
            "MSE:  0.7600527441072137\n"
          ]
        }
      ],
      "source": [
        "# Can we increase the model performance by adding the new feature? \n",
        "# We found that to be the case in the analysis above but let's check the same for the validation dataset\n",
        "\n",
        "mlr_added_feature = LinearRegression()\n",
        "mlr_added_feature.fit(train[features_added], train[target])\n",
        "print(\"*********Training set Metrics**************\")\n",
        "print(\"R-Squared:\", mlr_added_feature.score(train[features_added], train[target]))\n",
        "se_train = (train[target] - mlr_added_feature.predict(train[features_added]))**2\n",
        "mse_train = se_train.mean()\n",
        "print('MSE: ', mse_train)\n",
        "print(\"********Validation set Metrics**************\")\n",
        "print(\"R-Squared:\", mlr_added_feature.score(validation[features_added], validation[target]))\n",
        "se_val = (validation[target] - mlr_added_feature.predict(validation[features_added]))**2\n",
        "mse_val = se_val.mean()\n",
        "print('MSE: ', mse_val)"
      ]
    },
    {
      "cell_type": "markdown",
      "metadata": {
        "id": "b6lpvtsONOad"
      },
      "source": [
        "**Observations**\n",
        "- We found the R-squared increased as we would expect after adding a feature. Also the error decreased. Let us now fit a regularized model."
      ]
    },
    {
      "cell_type": "markdown",
      "metadata": {
        "id": "jCJB91-qGv4k"
      },
      "source": [
        "## Regularization "
      ]
    },
    {
      "cell_type": "code",
      "execution_count": null,
      "metadata": {
        "colab": {
          "base_uri": "https://localhost:8080/"
        },
        "id": "zvJSmJcAQ5-L",
        "outputId": "63767378-2ff9-4ee1-9b62-d8cb15a811a5"
      },
      "outputs": [
        {
          "data": {
            "text/plain": [
              "['TV', 'Radio', 'Newspaper', 'TVandRadio']"
            ]
          },
          "execution_count": 28,
          "metadata": {},
          "output_type": "execute_result"
        }
      ],
      "source": [
        "features_added"
      ]
    },
    {
      "cell_type": "code",
      "execution_count": null,
      "metadata": {
        "colab": {
          "base_uri": "https://localhost:8080/"
        },
        "id": "aZoBlRnCKge6",
        "outputId": "35c9fbe9-98eb-45c0-c2a7-6b4a528cd5c7"
      },
      "outputs": [
        {
          "name": "stdout",
          "output_type": "stream",
          "text": [
            "*********Training set Metrics**************\n",
            "R-Squared: 0.958023517237818\n",
            "MSE:  1.0016155396698094\n",
            "********Validation set Metrics**************\n",
            "R-Squared: 0.9795476415861633\n",
            "MSE:  0.7600681866903618\n"
          ]
        }
      ],
      "source": [
        "from sklearn.linear_model import Ridge\n",
        "from sklearn.linear_model import Lasso\n",
        "\n",
        "#fitting Ridge with the default features\n",
        "ridge = Ridge()\n",
        "ridge.fit(train[features_added], train[target])\n",
        "\n",
        "print(\"*********Training set Metrics**************\")\n",
        "print(\"R-Squared:\", ridge.score(train[features_added], train[target]))\n",
        "se_train = (train[target] - ridge.predict(train[features_added]))**2\n",
        "mse_train = se_train.mean()\n",
        "print('MSE: ', mse_train)\n",
        "print(\"********Validation set Metrics**************\")\n",
        "print(\"R-Squared:\", ridge.score(validation[features_added], validation[target]))\n",
        "se_val = (validation[target] - ridge.predict(validation[features_added]))**2\n",
        "mse_val = se_val.mean()\n",
        "print('MSE: ', mse_val)"
      ]
    },
    {
      "cell_type": "code",
      "execution_count": null,
      "metadata": {
        "colab": {
          "base_uri": "https://localhost:8080/"
        },
        "id": "oL3Px7TORUVN",
        "outputId": "7f4f9f05-2222-4172-b2d7-0c4d470bc211"
      },
      "outputs": [
        {
          "name": "stdout",
          "output_type": "stream",
          "text": [
            "*********Training set Metrics**************\n",
            "R-Squared: 0.9575230612795557\n",
            "MSE:  1.0135570943626075\n",
            "********Validation set Metrics**************\n",
            "R-Squared: 0.9769399450467467\n",
            "MSE:  0.856977655028845\n"
          ]
        }
      ],
      "source": [
        "from sklearn.linear_model import Ridge\n",
        "from sklearn.linear_model import Lasso\n",
        "\n",
        "#fitting Lasso with the default features\n",
        "lasso = Lasso()\n",
        "lasso.fit(train[features_added], train[target])\n",
        "\n",
        "print(\"*********Training set Metrics**************\")\n",
        "print(\"R-Squared:\", lasso.score(train[features_added], train[target]))\n",
        "se_train = (train[target] - lasso.predict(train[features_added]))**2\n",
        "mse_train = se_train.mean()\n",
        "print('MSE: ', mse_train)\n",
        "print(\"********Validation set Metrics**************\")\n",
        "print(\"R-Squared:\", lasso.score(validation[features_added], validation[target]))\n",
        "se_val = (validation[target] - lasso.predict(validation[features_added]))**2\n",
        "mse_val = se_val.mean()\n",
        "print('MSE: ', mse_val)"
      ]
    },
    {
      "cell_type": "code",
      "execution_count": null,
      "metadata": {
        "colab": {
          "base_uri": "https://localhost:8080/"
        },
        "id": "auLl5-cWRhKb",
        "outputId": "547a604e-d1ce-4364-c753-a0860242ec4e"
      },
      "outputs": [
        {
          "name": "stdout",
          "output_type": "stream",
          "text": [
            "*****************Test set Metrics******************\n",
            "Rsquared:  0.9817005837522722\n",
            "MSE:  0.49043304766182383\n",
            "Intercept is 6.8067374349457 and Coefficients are [0.01801443 0.01332594 0.00500065 0.00118479]\n"
          ]
        }
      ],
      "source": [
        "#Let us predict on the unseen data using Ridge\n",
        "\n",
        "rsq_test = ridge.score(test[features_added], test[target])\n",
        "se_test = (test[target] - ridge.predict(test[features_added]))**2\n",
        "mse_test = se_test.mean()\n",
        "\n",
        "print(\"*****************Test set Metrics******************\")\n",
        "\n",
        "print(\"Rsquared: \", rsq_test)\n",
        "print(\"MSE: \", mse_test)\n",
        "print(\"Intercept is {} and Coefficients are {}\".format(ridge.intercept_, ridge.coef_))"
      ]
    },
    {
      "cell_type": "markdown",
      "metadata": {
        "id": "SvdZcoUc9r4C"
      },
      "source": [
        "- We will now evaluate the performance using the LooCV and KFold methods.\n",
        "\n",
        "### K-Fold and LooCV"
      ]
    },
    {
      "cell_type": "code",
      "execution_count": null,
      "metadata": {
        "id": "tY9Rz4rf9ql5"
      },
      "outputs": [],
      "source": [
        "from sklearn.linear_model import Ridge\n",
        "from sklearn.linear_model import Lasso\n",
        "from sklearn.model_selection import cross_val_score"
      ]
    },
    {
      "cell_type": "code",
      "execution_count": null,
      "metadata": {
        "colab": {
          "base_uri": "https://localhost:8080/",
          "height": 105
        },
        "id": "WMcwry-h64ZA",
        "outputId": "aac321a0-ab04-4655-95de-f9ab260b03c4"
      },
      "outputs": [
        {
          "name": "stdout",
          "output_type": "stream",
          "text": [
            "Mean Score:\n",
            "0.9649887636257694 \n",
            "\n",
            "Confidence Interval:\n"
          ]
        },
        {
          "data": {
            "text/plain": [
              "(0.9430473456799696, 0.9869301815715691)"
            ]
          },
          "execution_count": 33,
          "metadata": {},
          "output_type": "execute_result"
        }
      ],
      "source": [
        "ridgeCV = Ridge()\n",
        "cvs = cross_val_score(ridgeCV, Ad_df[features_added], Ad_df[target], cv = 10)\n",
        "print(\"Mean Score:\")\n",
        "print(cvs.mean(), \"\\n\")\n",
        "print(\"Confidence Interval:\")\n",
        "cvs.mean() - cvs.std(), cvs.mean() + cvs.std() \n",
        "\n",
        "# note that the same can be set as LooCV if cv parameter above is set to n, i.e, 200."
      ]
    },
    {
      "cell_type": "markdown",
      "metadata": {
        "id": "id70R6LjYLEW"
      },
      "source": [
        "## Extra: Statsmodel to fit regularized model"
      ]
    },
    {
      "cell_type": "code",
      "execution_count": null,
      "metadata": {
        "id": "XVfz6N4yCT09"
      },
      "outputs": [],
      "source": [
        "# You can also use the statsmodel for the regularization using the below code\n",
        "# import statsmodels.formula.api as smf\n",
        "# We will use the below code to fit a regularized regression.\n",
        "\n",
        "\n",
        "# Here, lasso is fit\n",
        "# lm3 = smf.ols(formula= 'Sales ~ TV+Radio+Newspaper+TVandRadio', data = Ad_df).fit_regularized(method = 'elastic_net', L1_wt = 1)\n",
        "# print(\"*************Parameters**************\")\n",
        "# print(lm3.params)\n",
        "\n",
        "# Here, ridge regularization has been fit\n",
        "# lm4 = smf.ols(formula= 'Sales ~ TV+Radio+Newspaper+TVandRadio', data = Ad_df).fit_regularized(method = 'elastic_net', L1_wt = 0)\n",
        "# print(\"*************Parameters**************\")\n",
        "# print(lm4.params)"
      ]
    },
    {
      "cell_type": "markdown",
      "metadata": {
        "id": "i6veKXLlmMWr"
      },
      "source": [
        "## Bootstrapping"
      ]
    },
    {
      "cell_type": "code",
      "execution_count": null,
      "metadata": {
        "colab": {
          "base_uri": "https://localhost:8080/"
        },
        "id": "8FcvUb-YmLUP",
        "outputId": "d0785df0-11a5-4d5b-f419-778a4e0cfc30"
      },
      "outputs": [
        {
          "name": "stdout",
          "output_type": "stream",
          "text": [
            "                            OLS Regression Results                            \n",
            "==============================================================================\n",
            "Dep. Variable:                  Sales   R-squared:                       0.612\n",
            "Model:                            OLS   Adj. R-squared:                  0.610\n",
            "Method:                 Least Squares   F-statistic:                     312.1\n",
            "Date:                Sat, 28 Aug 2021   Prob (F-statistic):           1.47e-42\n",
            "Time:                        15:28:22   Log-Likelihood:                -519.05\n",
            "No. Observations:                 200   AIC:                             1042.\n",
            "Df Residuals:                     198   BIC:                             1049.\n",
            "Df Model:                           1                                         \n",
            "Covariance Type:            nonrobust                                         \n",
            "==============================================================================\n",
            "                 coef    std err          t      P>|t|      [0.025      0.975]\n",
            "------------------------------------------------------------------------------\n",
            "Intercept      7.0326      0.458     15.360      0.000       6.130       7.935\n",
            "TV             0.0475      0.003     17.668      0.000       0.042       0.053\n",
            "==============================================================================\n",
            "Omnibus:                        0.531   Durbin-Watson:                   1.935\n",
            "Prob(Omnibus):                  0.767   Jarque-Bera (JB):                0.669\n",
            "Skew:                          -0.089   Prob(JB):                        0.716\n",
            "Kurtosis:                       2.779   Cond. No.                         338.\n",
            "==============================================================================\n",
            "\n",
            "Notes:\n",
            "[1] Standard Errors assume that the covariance matrix of the errors is correctly specified.\n"
          ]
        }
      ],
      "source": [
        "# let us get a more detailed model through statsmodel.\n",
        "import statsmodels.formula.api as smf\n",
        "lm2 = smf.ols(formula= 'Sales ~ TV', data = Ad_df).fit()\n",
        "lm2.params\n",
        "print(lm2.summary())  #Inferential statistics"
      ]
    },
    {
      "cell_type": "code",
      "execution_count": null,
      "metadata": {
        "colab": {
          "base_uri": "https://localhost:8080/",
          "height": 278
        },
        "id": "_qjK1Fn9UOJT",
        "outputId": "a848a024-c4d4-4987-a72c-b838625a9a00"
      },
      "outputs": [
        {
          "data": {
            "image/png": "[encoded data removed]",
            "text/plain": [
              "<Figure size 432x288 with 1 Axes>"
            ]
          },
          "metadata": {
            "needs_background": "light"
          },
          "output_type": "display_data"
        }
      ],
      "source": [
        "#Now, let us calculate the slopes a 1000 times using bootstrapping\n",
        "\n",
        "import statsmodels.formula.api as smf\n",
        "\n",
        "\n",
        "Slope = []\n",
        "for i in range(1000):\n",
        "  bootstrap_df = Ad_df.sample(n = 200, replace = True )\n",
        "  lm3 = smf.ols(formula= 'Sales ~ TV', data = bootstrap_df).fit()\n",
        "  Slope.append(lm3.params.TV)\n",
        "  \n",
        "  plt.xlabel('TV Ads')\n",
        "  plt.ylabel('Sales')\n",
        "  plt.plot(bootstrap_df['TV'], lm3.predict(bootstrap_df['TV']), color='green', linewidth=3)\n",
        "  \n",
        "plt.scatter(Ad_df['TV'], Ad_df['Sales'],  color=(0,0,0.5))\n",
        "plt.show()\n"
      ]
    },
    {
      "cell_type": "code",
      "execution_count": null,
      "metadata": {
        "colab": {
          "base_uri": "https://localhost:8080/"
        },
        "id": "my0E81YkGwCN",
        "outputId": "e8aee2af-3ec0-489b-9e2c-d3a020689cb1"
      },
      "outputs": [
        {
          "data": {
            "text/plain": [
              "array([0.04126775, 0.05293063])"
            ]
          },
          "execution_count": 37,
          "metadata": {},
          "output_type": "execute_result"
        }
      ],
      "source": [
        "# Let's now find out the 2.5 and 97.5 percentile for the slopes obtained\n",
        "import numpy as np\n",
        "\n",
        "Slope = np.array(Slope)\n",
        "Sort_Slope = np.sort(Slope)\n",
        "\n",
        "\n",
        "Slope_limits = np.percentile(Sort_Slope, (2.5, 97.5))\n",
        "Slope_limits"
      ]
    },
    {
      "cell_type": "code",
      "execution_count": null,
      "metadata": {
        "colab": {
          "base_uri": "https://localhost:8080/",
          "height": 282
        },
        "id": "tfuLE-9Hoh2G",
        "outputId": "a4719d2a-57ef-4abe-fc6a-660a53a50e07"
      },
      "outputs": [
        {
          "data": {
            "text/plain": [
              "<matplotlib.lines.Line2D at 0x22adda6d7f0>"
            ]
          },
          "execution_count": 38,
          "metadata": {},
          "output_type": "execute_result"
        },
        {
          "data": {
            "image/png": "[encoded data removed]",
            "text/plain": [
              "<Figure size 432x288 with 1 Axes>"
            ]
          },
          "metadata": {
            "needs_background": "light"
          },
          "output_type": "display_data"
        }
      ],
      "source": [
        "# Plotting the slopes and the upper and the lower limits\n",
        "\n",
        "plt.hist(Slope, 50)\n",
        "plt.axvline(Slope_limits[0], color = 'r')\n",
        "plt.axvline(Slope_limits[1], color = 'r')"
      ]
    }
  ],
  "metadata": {
    "colab": {
      "provenance": []
    },
    "kernelspec": {
      "display_name": "Python 3 (ipykernel)",
      "language": "python",
      "name": "python3"
    },
    "language_info": {
      "codemirror_mode": {
        "name": "ipython",
        "version": 3
      },
      "file_extension": ".py",
      "mimetype": "text/x-python",
      "name": "python",
      "nbconvert_exporter": "python",
      "pygments_lexer": "ipython3",
      "version": "3.9.7"
    }
  },
  "nbformat": 4,
  "nbformat_minor": 0
}